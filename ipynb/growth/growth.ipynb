{
 "cells": [
  {
   "cell_type": "code",
   "execution_count": 1,
   "metadata": {
    "collapsed": true,
    "pycharm": {
     "name": "#%%\n"
    }
   },
   "outputs": [],
   "source": [
    "import numpy as np\n",
    "import pandas as pd\n",
    "import matplotlib.pyplot as plt\n",
    "\n",
    "%matplotlib inline\n",
    "\n",
    "hour_result = pd.read_csv('../../model/output/check_hour.csv')\n",
    "input_data = pd.read_csv('../../model/input/ricca_test_wind0.csv')\n",
    "growth_param = pd.read_csv('growth_param.csv')"
   ]
  },
  {
   "cell_type": "code",
   "execution_count": 2,
   "outputs": [],
   "source": [
    "assim = hour_result['assim'].tolist()\n",
    "dvs = hour_result['dvs'].tolist()\n",
    "Ta = input_data['Tair'].tolist()"
   ],
   "metadata": {
    "collapsed": false,
    "pycharm": {
     "name": "#%%\n"
    }
   }
  },
  {
   "cell_type": "code",
   "execution_count": 3,
   "outputs": [],
   "source": [
    "### Parameters for Chinese cabbage\n",
    "Tbase  = 0.0           # base temperature\n",
    "dm     = 0.6           # max root depth\n",
    "dg     = 0.012         # root elongation rate (m/day)\n",
    "hgt    = 0.4           # mean plant height (m)\n",
    "width  = 0.20          # mean leaf width (m)\n",
    "laicr  = 3             # lai critical for leaf death\n",
    "\n",
    "### Constants for maintenace respiration at 25C for various plant parts\n",
    "kgl  = 0.03            # for green leaves (gCH2O/gDM/day)\n",
    "kr   = 0.015           # for root (gCH2O/gDM/day)\n",
    "ko   = 0.020           # for rep. org\n",
    "\n",
    "### Glucose requirement for synthesis of various plant parts\n",
    "ggl  = 1.463           # for green leaves (gCH2O/gDM)\n",
    "gr   = 1.444           # for root (gCH2O/gDM)\n",
    "go   = 1.463\n",
    "\n",
    "# ## Table for partitioning\n",
    "istage = [0.00, 0.50, 0.95, 1.00, 1.10, 2.00]         # stage\n",
    "ifgl   = [0.92, 0.93, 0.94, 0.70, 0.00, 0.00]         # green leaf ratio\n",
    "ifr    = [0.08, 0.07, 0.05, 0.00, 0.00, 0.00]         # root ratio\n",
    "ifo    = [0.00, 0.00, 0.01, 0.30, 1.00, 1.00]\n",
    "\n",
    "## ratio to DM / CH2O\n",
    "cd     = 1.125         # factor convert mass to CH2O weight, = mass * 45%C / C_MW * CH2O_MW\n",
    "\n",
    "## ratio of fresh weight to dry weight of leaf\n",
    "FDR    = 16.76\n",
    "\n",
    "## time conversion\n",
    "time  = 'hour'\n",
    "conv  = 1/24 if time == 'hour' else 1\n",
    "\n",
    "wgls = 1.0\n",
    "wrs = 0.2\n",
    "wos = 0.0\n",
    "maints = 0.0\n",
    "rootds = 0.0"
   ],
   "metadata": {
    "collapsed": false,
    "pycharm": {
     "name": "#%%\n"
    }
   }
  },
  {
   "cell_type": "code",
   "execution_count": 4,
   "outputs": [],
   "source": [
    "wgl = growth_param['wgl'].to_list()\n",
    "wr = growth_param['wr'].to_list()\n",
    "wo = growth_param['wo'].to_list()\n",
    "maint = []"
   ],
   "metadata": {
    "collapsed": false,
    "pycharm": {
     "name": "#%%\n"
    }
   }
  },
  {
   "cell_type": "markdown",
   "source": [
    "growCalc"
   ],
   "metadata": {
    "collapsed": false,
    "pycharm": {
     "name": "#%% md\n"
    }
   }
  },
  {
   "cell_type": "code",
   "execution_count": 5,
   "outputs": [],
   "source": [
    "corr = 1 / 24\n",
    "RDT = 1.0\n",
    "\n",
    "assim_c = []\n",
    "\n",
    "for i in range(len(assim)):\n",
    "    assimc = assim[i] * RDT\n",
    "    assim_c.append(assimc)\n",
    "\n",
    "# assim_c\n",
    "\n",
    "ddage = []\n",
    "\n",
    "for i in range(len(dvs)):\n",
    "    if (dvs[i] > 0.9 and dvs[i] < 1.9):\n",
    "        ddages = (0.05 / (2.0 - dvs[i])) * conv\n",
    "        ddage.append(ddages)\n",
    "    elif dvs[i] >= 1.9:\n",
    "        ddages = (0.05 / 0.1) * conv\n",
    "        ddage.append(ddages)\n",
    "    else:\n",
    "        ddages = 0.0\n",
    "        ddage.append(ddages)"
   ],
   "metadata": {
    "collapsed": false,
    "pycharm": {
     "name": "#%%\n"
    }
   }
  },
  {
   "cell_type": "code",
   "execution_count": 6,
   "outputs": [],
   "source": [
    "mgl = []\n",
    "mr = []\n",
    "mo = []\n",
    "RM = []\n",
    "\n",
    "for i in range(len(wgl)):\n",
    "    mgl.append(wgl[i] * kgl)\n",
    "    mr.append(wr[i] * kr)\n",
    "    mo.append(wo[i] * ko)\n",
    "    RM.append(mgl[i] + mo[i])\n",
    "\n",
    "tempRM = []\n",
    "RMpr = []\n",
    "\n",
    "for i in range(len(RM)):\n",
    "    tempRM.append((RM[i] * 2 **((Ta[i] - 20)/10))*corr)  # temperature   from Teh\n",
    "    RMpr.append(min(tempRM[i], assim_c[i]))"
   ],
   "metadata": {
    "collapsed": false,
    "pycharm": {
     "name": "#%%\n"
    }
   }
  },
  {
   "cell_type": "code",
   "execution_count": 7,
   "outputs": [],
   "source": [
    "fgl = []\n",
    "fr = []\n",
    "fo = []\n",
    "\n",
    "for i in range(len(dvs)):\n",
    "    fgl.append(np.interp(dvs[i], istage, ifgl))\n",
    "    fr.append(np.interp(dvs[i], istage, ifr))\n",
    "    fo.append(np.interp(dvs[i], istage, ifo))"
   ],
   "metadata": {
    "collapsed": false,
    "pycharm": {
     "name": "#%%\n"
    }
   }
  },
  {
   "cell_type": "markdown",
   "source": [
    "fgl"
   ],
   "metadata": {
    "collapsed": false,
    "pycharm": {
     "name": "#%% md\n"
    }
   }
  },
  {
   "cell_type": "code",
   "execution_count": 8,
   "outputs": [
    {
     "data": {
      "text/plain": "<Figure size 432x288 with 1 Axes>",
      "image/png": "[encoded data removed]"
     },
     "metadata": {
      "needs_background": "light"
     },
     "output_type": "display_data"
    }
   ],
   "source": [
    "plt.plot(fgl);"
   ],
   "metadata": {
    "collapsed": false,
    "pycharm": {
     "name": "#%%\n"
    }
   }
  },
  {
   "cell_type": "markdown",
   "source": [
    "fr"
   ],
   "metadata": {
    "collapsed": false,
    "pycharm": {
     "name": "#%% md\n"
    }
   }
  },
  {
   "cell_type": "code",
   "execution_count": 9,
   "outputs": [
    {
     "data": {
      "text/plain": "<Figure size 432x288 with 1 Axes>",
      "image/png": "[encoded data removed]"
     },
     "metadata": {
      "needs_background": "light"
     },
     "output_type": "display_data"
    }
   ],
   "source": [
    "plt.plot(fo);"
   ],
   "metadata": {
    "collapsed": false,
    "pycharm": {
     "name": "#%%\n"
    }
   }
  },
  {
   "cell_type": "markdown",
   "source": [
    "fo"
   ],
   "metadata": {
    "collapsed": false,
    "pycharm": {
     "name": "#%% md\n"
    }
   }
  },
  {
   "cell_type": "code",
   "execution_count": 10,
   "outputs": [
    {
     "data": {
      "text/plain": "<Figure size 432x288 with 1 Axes>",
      "image/png": "[encoded data removed]"
     },
     "metadata": {
      "needs_background": "light"
     },
     "output_type": "display_data"
    }
   ],
   "source": [
    "plt.plot(fo);"
   ],
   "metadata": {
    "collapsed": false,
    "pycharm": {
     "name": "#%%\n"
    }
   }
  },
  {
   "cell_type": "code",
   "execution_count": 11,
   "outputs": [],
   "source": [
    "fggl = []\n",
    "fgr = []\n",
    "fgo = []\n",
    "GT = []\n",
    "\n",
    "for i in range(len(fgl)):\n",
    "    fggl.append(fgl[i] * ggl)\n",
    "    fgr.append(fr[i]  * gr)\n",
    "    fgo.append(fo[i]  * go)\n",
    "    GT.append(fggl[i] + fgr [i]+ fgo[i])\n",
    "# plt.plot(GT);"
   ],
   "metadata": {
    "collapsed": false,
    "pycharm": {
     "name": "#%%\n"
    }
   }
  },
  {
   "cell_type": "code",
   "execution_count": 12,
   "outputs": [],
   "source": [
    "available = []\n",
    "\n",
    "for i in range(len(RMpr)):\n",
    "    avail = ((assim_c[i] - RMpr[i]) / GT[i])\n",
    "    avail *= 0.84\n",
    "    available.append(avail)\n",
    "\n",
    "#############################################\n",
    "\n",
    "# res = {'assim_c':[], 'RMpr':[], 'GT':[]}\n",
    "# for i in range(len(assim_c)):\n",
    "#     res['assim_c'].append(assim_c[i])\n",
    "#     res['RMpr'].append(RMpr[i])\n",
    "#     res['GT'].append(GT[i])\n",
    "#\n",
    "# check = pd.DataFrame(res)\n",
    "# check.to_csv('check.csv')"
   ],
   "metadata": {
    "collapsed": false,
    "pycharm": {
     "name": "#%%\n"
    }
   }
  },
  {
   "cell_type": "code",
   "execution_count": 13,
   "outputs": [],
   "source": [
    "gr_gl = []\n",
    "gr_r = []\n",
    "gr_o = []\n",
    "gr_dl = []\n",
    "\n",
    "for i in range(len(available)):\n",
    "    gr_gl.append(fgl[i] * available[i])\n",
    "    gr_r.append(fr[i]  * available[i])\n",
    "    gr_o.append(fo[i]  * available[i])\n",
    "    gr_dl.append(ggl * ddage[i])"
   ],
   "metadata": {
    "collapsed": false,
    "pycharm": {
     "name": "#%%\n"
    }
   }
  },
  {
   "cell_type": "code",
   "execution_count": 14,
   "outputs": [],
   "source": [
    "wgl_nb = []\n",
    "wr_nb = []\n",
    "wo_nb = []\n",
    "maint_nb = []\n",
    "\n",
    "for i in range(len(gr_gl)):\n",
    "    wgls += (gr_gl[i] - gr_dl[i])\n",
    "    wrs += (gr_r[i])\n",
    "    wos += (gr_o[i])\n",
    "    wgl_nb.append(wgls)\n",
    "    wr_nb.append(wrs)\n",
    "    wo_nb.append(wos)"
   ],
   "metadata": {
    "collapsed": false,
    "pycharm": {
     "name": "#%%\n"
    }
   }
  },
  {
   "cell_type": "code",
   "execution_count": 15,
   "outputs": [],
   "source": [
    "# res = {'wgl_nb':[], 'wr_nb':[], 'wo_nb':[]}\n",
    "# for i in range(len(wgl)):\n",
    "#     res['wgl_nb'].append(wgl_nb[i])\n",
    "#     res['wr_nb'].append(wr_nb[i])\n",
    "#     res['wo_nb'].append(wo_nb[i])\n",
    "#\n",
    "# check = pd.DataFrame(res)\n",
    "# check.to_csv('check.csv')"
   ],
   "metadata": {
    "collapsed": false,
    "pycharm": {
     "name": "#%%\n"
    }
   }
  },
  {
   "cell_type": "code",
   "execution_count": 16,
   "outputs": [
    {
     "data": {
      "text/plain": "<Figure size 432x288 with 1 Axes>",
      "image/png": "[encoded data removed]"
     },
     "metadata": {
      "needs_background": "light"
     },
     "output_type": "display_data"
    }
   ],
   "source": [
    "plt.plot(wgl_nb);"
   ],
   "metadata": {
    "collapsed": false,
    "pycharm": {
     "name": "#%%\n"
    }
   }
  }
 ],
 "metadata": {
  "kernelspec": {
   "display_name": "Python 3",
   "language": "python",
   "name": "python3"
  },
  "language_info": {
   "codemirror_mode": {
    "name": "ipython",
    "version": 2
   },
   "file_extension": ".py",
   "mimetype": "text/x-python",
   "name": "python",
   "nbconvert_exporter": "python",
   "pygments_lexer": "ipython2",
   "version": "2.7.6"
  }
 },
 "nbformat": 4,
 "nbformat_minor": 0
}