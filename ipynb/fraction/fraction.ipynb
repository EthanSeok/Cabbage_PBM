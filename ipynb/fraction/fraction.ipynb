{
 "cells": [
  {
   "cell_type": "code",
   "execution_count": 1,
   "metadata": {
    "collapsed": true,
    "pycharm": {
     "name": "#%%\n"
    }
   },
   "outputs": [],
   "source": [
    "import pandas as pd\n",
    "import numpy as np\n",
    "import matplotlib.pyplot as plt\n",
    "\n",
    "%matplotlib inline\n",
    "\n",
    "hour_result = pd.read_csv('../../model/output/check_hour.csv')\n",
    "input_data = pd.read_csv('../../model/input/ricca_test_wind0.csv')"
   ]
  },
  {
   "cell_type": "code",
   "execution_count": 2,
   "outputs": [],
   "source": [
    "doy = hour_result['doy'].tolist()\n",
    "hour = hour_result['hour'].tolist()\n",
    "lai = hour_result['lai'].tolist()\n",
    "PPFD = input_data['Irrad'].tolist()\n",
    "PPFD = [x * 4.57 / 2 for x in PPFD]\n",
    "timestamp = input_data['timestamp'].tolist()"
   ],
   "metadata": {
    "collapsed": false,
    "pycharm": {
     "name": "#%%\n"
    }
   }
  },
  {
   "cell_type": "code",
   "execution_count": 3,
   "outputs": [],
   "source": [
    "##### Constants\n",
    "KELVIN   = 273.15       # Kelvin temperature\n",
    "R        = 8.314        # ideal gas constant\n",
    "SBC      = 5.6697e-8    # Stefan-Boltzmann constant   W m-2 K-4\n",
    "PSC      = 6.66e-4      # psychrometer constant\n",
    "Cp       = 29.3         # specific heat of air    J mol-1 C-1\n",
    "LAMBDA   = 44000.       # Latent heat of vaporization at 25 C J mol-1import numpy as np\n",
    "\n",
    "### Constant or parameters\n",
    "SC      = 1361.     # Solar conatant   W m-2\n",
    "conv    = 4.57      # conversion from W m-2 to umol m-2 s-1\n",
    "Po      = 101.3     # atomopheric pressure at sea level  kPa\n",
    "\n",
    "### Parameters of Chinese cabbage\n",
    "Nb      = 25         # residual leaf N content (about 0.5% N) mmol m-2  from de Pury(1997)\n",
    "No      = 137        # leaf N content of canopy top         mmol m-2\n",
    "Nl      = 120        # leaf N content per unit leaf area    mmol m-2\n",
    "kn      = 0.713      # coefficient for leaf N allocation\n",
    "# Vcmax = 110        # rubisco capacity by calculation      umol m-2 s-1 from de Pury(1997)\n",
    "# Xn = Vcmax/(Nl-Nb) # ratio of rubisco capacity to leaf N\n",
    "\n",
    "### clumping factor\n",
    "clump   = 0.5"
   ],
   "metadata": {
    "collapsed": false,
    "pycharm": {
     "name": "#%%\n"
    }
   }
  },
  {
   "cell_type": "code",
   "execution_count": 4,
   "outputs": [],
   "source": [
    "a       = 0.72    # atmospheric transmission coefficients of PAR\n",
    "fa      = 0.426   # forward scattering coeff of PAR\n",
    "rhocd   = 0.036   # canopy reflection coeff for diffuse PAR\n",
    "rhoh    = 0.04    # reflection coeff of a canopy with horizontal leaves\n",
    "rhol    = 0.10    # reflection coeff for PAR\n",
    "taul    = 0.05    # leaf transmissivity to PAR\n",
    "sigma   = 0.15    # leaf scattering coeff for PAR (rhol + taul)\n",
    "kd      = 0.78 * clump   # diffuse PAR extinction coeff.             0.5 <- clumping\n",
    "kdprime = 0.719   # diffuse & scattered diffuse OAR ext coeff\n",
    "\n",
    "lat = np.radians(37.0)\n",
    "P = 100.0"
   ],
   "metadata": {
    "collapsed": false,
    "pycharm": {
     "name": "#%%\n"
    }
   }
  },
  {
   "cell_type": "markdown",
   "source": [
    "sunlit, shaded param"
   ],
   "metadata": {
    "collapsed": false,
    "pycharm": {
     "name": "#%% md\n"
    }
   }
  },
  {
   "cell_type": "code",
   "execution_count": 5,
   "outputs": [],
   "source": [
    "decl = []\n",
    "ha = []\n",
    "sin_a = []\n",
    "cos_b = []\n",
    "incl = []\n",
    "sunhgt = []\n",
    "kb = []\n",
    "kbprime = []\n",
    "rhocb = []\n",
    "m = []\n",
    "fd = []\n",
    "\n",
    "for i in range(len(doy)):\n",
    "    decl.append(-0.4093 * np.cos(2 * np.pi * (doy[i] + 10) / 365))  # sun declination   rad\n",
    "    ha.append(np.pi / 12 * (hour[i] - 12))                          # hour angle   rad\n",
    "    sin_a.append(np.sin(decl[i])*np.sin(lat))\n",
    "    cos_b.append(np.cos(decl[i])*np.cos(lat))\n",
    "    incl.append(np.arccos(sin_a[i] + cos_b[i] * np.cos(ha[i])))     # sun inclination   rad\n",
    "    sunhgt.append(max(0.05, np.pi / 2 - incl[i]))                   # solar height   rad\n",
    "    kb.append(0.5/np.sin(sunhgt[i]) * clump)                        # beam radiation extinction coeff  0.5 <- clumping\n",
    "    kbprime.append(0.46/np.sin(sunhgt[i]))                          # beam + scattered beam PAR ext coeff\n",
    "    rhocb.append(1-np.exp(-2*rhoh*kb[i]/(1+kb[i])))                 # canopy reflec coeff for beam PAR\n",
    "    m.append(P / Po /np.sin(sunhgt[i]))                             # optical air mass\n",
    "    fd.append((1-a**m[i])/(1+a**m[i] * (1/fa-1)) )"
   ],
   "metadata": {
    "collapsed": false,
    "pycharm": {
     "name": "#%%\n"
    }
   }
  },
  {
   "cell_type": "markdown",
   "source": [
    "Icsun, Icshade"
   ],
   "metadata": {
    "collapsed": false,
    "pycharm": {
     "name": "#%% md\n"
    }
   }
  },
  {
   "cell_type": "code",
   "execution_count": 6,
   "outputs": [],
   "source": [
    "It = PPFD\n",
    "Id = []\n",
    "Ib = []\n",
    "Icbs = []\n",
    "Icd = []\n",
    "Icdb = []\n",
    "Icdf = []\n",
    "Icsc = []\n",
    "Icshdf = []\n",
    "\n",
    "Icsun = []\n",
    "Icshsc = []\n",
    "\n",
    "\n",
    "for i in range(len(PPFD)):\n",
    "    Id.append(It[i] * fd[i])                       # diffuse fraction of irradiance PAR umol m-2 s-1\n",
    "    Ib.append(It[i] - Id[i])                       # beam fraction of irradiance PAR umol m-2 s-1\n",
    "\n",
    "    ## for total leaves\n",
    "    Icbs.append(Ib[i]*(1-rhocb[i])*(1-np.exp(-kbprime[i]*lai[i])))       # canopy absorbed beam irrad.\n",
    "    Icd.append(Id[i]*(1-rhocd)*(1-np.exp(-kdprime*lai[i])))        # canopy absorbed diffuse irrad.\n",
    "\n",
    "    ## for sunlit leaves\n",
    "    Icdb.append(Ib[i]*(1-sigma)*(1-np.exp(-kb[i]*lai[i])))       # absorbed direct beam by sunlit leaves\n",
    "    Icdf.append(Id[i]*(1-rhocd)*(1-np.exp(-(kdprime+kb[i])*lai[i])) * \\\n",
    "        kdprime/(kdprime+kb[i]))                                # absorbed diffse beam by sunlit leaves\n",
    "    Icsc.append(Ib[i]*((1-rhocb[i])*(1-np.exp(-(kbprime[i]+kb[i])*lai[i]))*kbprime[i]/(kbprime[i]+kb[i])- \\\n",
    "        (1-sigma)*(1-np.exp(-2*kb[i]*lai[i]))/2))             # absorbed scattered beam by sunlit leaves\n",
    "    Icsun.append(Icdb[i] + Icdf[i] + Icsc[i])\n",
    "\n",
    "    ## for shaded leaves\n",
    "    Icshdf.append(Id[i]*(1-rhocd)*(1-np.exp(-kdprime*lai[i])-(1-np.exp(-(kdprime+kb[i])*lai[i]))* \\\n",
    "    kdprime/(kdprime+kb[i])))                              # absorbed diffuse beam by shaded leaves\n",
    "\n",
    "    Icshsc.append(Ib[i]*((1-rhocb[i])*(1-np.exp(-kbprime[i]*lai[i])-(1-np.exp(-(kbprime[i]+kb[i])*lai[i]))* \\\n",
    "    kbprime[i]/(kbprime[i]+kb[i]))-(1-sigma)*(1-np.exp(-kb[i]*lai[i])-(1-np.exp(-2*kb[i]*lai[i]))/2)))"
   ],
   "metadata": {
    "collapsed": false,
    "pycharm": {
     "name": "#%%\n"
    }
   }
  },
  {
   "cell_type": "code",
   "execution_count": 7,
   "outputs": [],
   "source": [
    "laiSun = []\n",
    "laiSh = []\n",
    "\n",
    "for i in range(len(lai)):\n",
    "    laiSun.append((1 - np.exp(-kb[i] * lai[i])) / kb[i])\n",
    "    laiSh.append(lai[i] - laiSun[i])"
   ],
   "metadata": {
    "collapsed": false,
    "pycharm": {
     "name": "#%%\n"
    }
   }
  },
  {
   "cell_type": "code",
   "execution_count": 8,
   "outputs": [
    {
     "data": {
      "text/plain": "<Figure size 432x288 with 1 Axes>",
      "image/png": "[encoded data removed]"
     },
     "metadata": {
      "needs_background": "light"
     },
     "output_type": "display_data"
    }
   ],
   "source": [
    "plt.plot(sunhgt);"
   ],
   "metadata": {
    "collapsed": false,
    "pycharm": {
     "name": "#%%\n"
    }
   }
  },
  {
   "cell_type": "markdown",
   "source": [],
   "metadata": {
    "collapsed": false,
    "pycharm": {
     "name": "#%% md\n"
    }
   }
  },
  {
   "cell_type": "code",
   "execution_count": 9,
   "outputs": [],
   "source": [
    "\n",
    "result = {'timestamp':[],'hour':[],'lai':[],'PPFD':[],'decl':[], 'ha':[], 'sin_a':[], 'cos_b':[], 'incl':[], 'sunhgt':[], 'kb':[], 'kbprime':[], 'rhocb':[], 'm':[], 'fd':[],\n",
    "          'It':[], 'Id':[], 'Ib':[], 'Icbs':[], 'Icd':[], 'Icdb':[], 'Icdf':[], 'Icsc':[], 'Icshdf':[], 'Icsun':[], 'Icshsc':[],\n",
    "          'laiSun':[], 'laiSh':[]}"
   ],
   "metadata": {
    "collapsed": false,
    "pycharm": {
     "name": "#%%\n"
    }
   }
  },
  {
   "cell_type": "code",
   "execution_count": 10,
   "outputs": [],
   "source": [
    "\n",
    "for i in range(len(timestamp)):\n",
    "    result['timestamp'].append(timestamp[i])\n",
    "    result['hour'].append(hour[i])\n",
    "    result['lai'].append(lai[i])\n",
    "    result['PPFD'].append(PPFD[i])\n",
    "    result['decl'].append(decl[i])\n",
    "    result['ha'].append(ha[i])\n",
    "    result['sin_a'].append(sin_a[i])\n",
    "    result['cos_b'].append(cos_b[i])\n",
    "    result['incl'].append(incl[i])\n",
    "    result['sunhgt'].append(sunhgt[i])\n",
    "    result['kb'].append(kb[i])\n",
    "    result['kbprime'].append(kbprime[i])\n",
    "    result['rhocb'].append(rhocb[i])\n",
    "    result['m'].append(m[i])\n",
    "    result['fd'].append(fd[i])\n",
    "    result['It'].append(It[i])\n",
    "    result['Id'].append(Id[i])\n",
    "    result['Ib'].append(Ib[i])\n",
    "    result['Icbs'].append(Icbs[i])\n",
    "    result['Icd'].append(Icd[i])\n",
    "    result['Icdb'].append(Icdb[i])\n",
    "    result['Icdf'].append(Icdf[i])\n",
    "    result['Icsc'].append(Icsc[i])\n",
    "    result['Icshdf'].append(Icshdf[i])\n",
    "    result['Icsun'].append(Icsun[i])\n",
    "    result['Icshsc'].append(Icshsc[i])\n",
    "    result['laiSun'].append(laiSun[i])\n",
    "    result['laiSh'].append(laiSh[i])"
   ],
   "metadata": {
    "collapsed": false,
    "pycharm": {
     "name": "#%%\n"
    }
   }
  },
  {
   "cell_type": "code",
   "execution_count": 11,
   "outputs": [
    {
     "data": {
      "text/plain": "                  hour       lai    PPFD      decl        ha     sin_a  \\\ntimestamp                                                                \n2017-09-20 0:00      0  0.002522  0.0000  0.005284 -3.141593  0.003180   \n2017-09-20 1:00      1  0.002522  0.2285  0.005284 -2.879793  0.003180   \n2017-09-20 2:00      2  0.002522  0.2285  0.005284 -2.617994  0.003180   \n2017-09-20 3:00      3  0.002522  0.2285  0.005284 -2.356194  0.003180   \n2017-09-20 4:00      4  0.002522  0.2285  0.005284 -2.094395  0.003180   \n...                ...       ...     ...       ...       ...       ...   \n2017-12-13 19:00    19  3.895113  0.2285 -0.405425  1.832596 -0.237361   \n2017-12-13 20:00    20  3.895113  0.2285 -0.405425  2.094395 -0.237361   \n2017-12-13 21:00    21  3.895113  0.2285 -0.405425  2.356194 -0.237361   \n2017-12-13 22:00    22  3.895113  0.2285 -0.405425  2.617994 -0.237361   \n2017-12-13 23:00    23  3.895113  0.2285 -0.405425  2.879793 -0.237361   \n\n                     cos_b      incl  sunhgt        kb  ...      Icbs  \\\ntimestamp                                               ...             \n2017-09-20 0:00   0.798624  2.490537    0.05  5.002084  ...  0.000000   \n2017-09-20 1:00   0.798624  2.446871    0.05  5.002084  ...  0.000017   \n2017-09-20 2:00   0.798624  2.330145    0.05  5.002084  ...  0.000017   \n2017-09-20 3:00   0.798624  2.167033    0.05  5.002084  ...  0.000017   \n2017-09-20 4:00   0.798624  1.978097    0.05  5.002084  ...  0.000017   \n...                    ...       ...     ...       ...  ...       ...   \n2017-12-13 19:00  0.733894  2.012309    0.05  5.002084  ...  0.000762   \n2017-12-13 20:00  0.733894  2.219694    0.05  5.002084  ...  0.000762   \n2017-12-13 21:00  0.733894  2.428440    0.05  5.002084  ...  0.000762   \n2017-12-13 22:00  0.733894  2.631977    0.05  5.002084  ...  0.000762   \n2017-12-13 23:00  0.733894  2.812230    0.05  5.002084  ...  0.000762   \n\n                       Icd      Icdb      Icdf      Icsc    Icshdf     Icsun  \\\ntimestamp                                                                      \n2017-09-20 0:00   0.000000  0.000000  0.000000  0.000000  0.000000  0.000000   \n2017-09-20 1:00   0.000398  0.000009  0.000395  0.000009  0.000002  0.000413   \n2017-09-20 2:00   0.000398  0.000009  0.000395  0.000009  0.000002  0.000413   \n2017-09-20 3:00   0.000398  0.000009  0.000395  0.000009  0.000002  0.000413   \n2017-09-20 4:00   0.000398  0.000009  0.000395  0.000009  0.000002  0.000413   \n...                    ...       ...       ...       ...       ...       ...   \n2017-12-13 19:00  0.206150  0.000692  0.027584  0.000147  0.178565  0.028424   \n2017-12-13 20:00  0.206150  0.000692  0.027584  0.000147  0.178565  0.028424   \n2017-12-13 21:00  0.206150  0.000692  0.027584  0.000147  0.178565  0.028424   \n2017-12-13 22:00  0.206150  0.000692  0.027584  0.000147  0.178565  0.028424   \n2017-12-13 23:00  0.206150  0.000692  0.027584  0.000147  0.178565  0.028424   \n\n                        Icshsc    laiSun     laiSh  \ntimestamp                                           \n2017-09-20 0:00   0.000000e+00  0.002506  0.000016  \n2017-09-20 1:00   5.497591e-08  0.002506  0.000016  \n2017-09-20 2:00   5.497591e-08  0.002506  0.000016  \n2017-09-20 3:00   5.497591e-08  0.002506  0.000016  \n2017-09-20 4:00   5.497591e-08  0.002506  0.000016  \n...                        ...       ...       ...  \n2017-12-13 19:00 -7.782663e-05  0.199917  3.695197  \n2017-12-13 20:00 -7.782663e-05  0.199917  3.695197  \n2017-12-13 21:00 -7.782663e-05  0.199917  3.695197  \n2017-12-13 22:00 -7.782663e-05  0.199917  3.695197  \n2017-12-13 23:00 -7.782663e-05  0.199917  3.695197  \n\n[2040 rows x 27 columns]",
      "text/html": "<div>\n<style scoped>\n    .dataframe tbody tr th:only-of-type {\n        vertical-align: middle;\n    }\n\n    .dataframe tbody tr th {\n        vertical-align: top;\n    }\n\n    .dataframe thead th {\n        text-align: right;\n    }\n</style>\n<table border=\"1\" class=\"dataframe\">\n  <thead>\n    <tr style=\"text-align: right;\">\n      <th></th>\n      <th>hour</th>\n      <th>lai</th>\n      <th>PPFD</th>\n      <th>decl</th>\n      <th>ha</th>\n      <th>sin_a</th>\n      <th>cos_b</th>\n      <th>incl</th>\n      <th>sunhgt</th>\n      <th>kb</th>\n      <th>...</th>\n      <th>Icbs</th>\n      <th>Icd</th>\n      <th>Icdb</th>\n      <th>Icdf</th>\n      <th>Icsc</th>\n      <th>Icshdf</th>\n      <th>Icsun</th>\n      <th>Icshsc</th>\n      <th>laiSun</th>\n      <th>laiSh</th>\n    </tr>\n    <tr>\n      <th>timestamp</th>\n      <th></th>\n      <th></th>\n      <th></th>\n      <th></th>\n      <th></th>\n      <th></th>\n      <th></th>\n      <th></th>\n      <th></th>\n      <th></th>\n      <th></th>\n      <th></th>\n      <th></th>\n      <th></th>\n      <th></th>\n      <th></th>\n      <th></th>\n      <th></th>\n      <th></th>\n      <th></th>\n      <th></th>\n    </tr>\n  </thead>\n  <tbody>\n    <tr>\n      <th>2017-09-20 0:00</th>\n      <td>0</td>\n      <td>0.002522</td>\n      <td>0.0000</td>\n      <td>0.005284</td>\n      <td>-3.141593</td>\n      <td>0.003180</td>\n      <td>0.798624</td>\n      <td>2.490537</td>\n      <td>0.05</td>\n      <td>5.002084</td>\n      <td>...</td>\n      <td>0.000000</td>\n      <td>0.000000</td>\n      <td>0.000000</td>\n      <td>0.000000</td>\n      <td>0.000000</td>\n      <td>0.000000</td>\n      <td>0.000000</td>\n      <td>0.000000e+00</td>\n      <td>0.002506</td>\n      <td>0.000016</td>\n    </tr>\n    <tr>\n      <th>2017-09-20 1:00</th>\n      <td>1</td>\n      <td>0.002522</td>\n      <td>0.2285</td>\n      <td>0.005284</td>\n      <td>-2.879793</td>\n      <td>0.003180</td>\n      <td>0.798624</td>\n      <td>2.446871</td>\n      <td>0.05</td>\n      <td>5.002084</td>\n      <td>...</td>\n      <td>0.000017</td>\n      <td>0.000398</td>\n      <td>0.000009</td>\n      <td>0.000395</td>\n      <td>0.000009</td>\n      <td>0.000002</td>\n      <td>0.000413</td>\n      <td>5.497591e-08</td>\n      <td>0.002506</td>\n      <td>0.000016</td>\n    </tr>\n    <tr>\n      <th>2017-09-20 2:00</th>\n      <td>2</td>\n      <td>0.002522</td>\n      <td>0.2285</td>\n      <td>0.005284</td>\n      <td>-2.617994</td>\n      <td>0.003180</td>\n      <td>0.798624</td>\n      <td>2.330145</td>\n      <td>0.05</td>\n      <td>5.002084</td>\n      <td>...</td>\n      <td>0.000017</td>\n      <td>0.000398</td>\n      <td>0.000009</td>\n      <td>0.000395</td>\n      <td>0.000009</td>\n      <td>0.000002</td>\n      <td>0.000413</td>\n      <td>5.497591e-08</td>\n      <td>0.002506</td>\n      <td>0.000016</td>\n    </tr>\n    <tr>\n      <th>2017-09-20 3:00</th>\n      <td>3</td>\n      <td>0.002522</td>\n      <td>0.2285</td>\n      <td>0.005284</td>\n      <td>-2.356194</td>\n      <td>0.003180</td>\n      <td>0.798624</td>\n      <td>2.167033</td>\n      <td>0.05</td>\n      <td>5.002084</td>\n      <td>...</td>\n      <td>0.000017</td>\n      <td>0.000398</td>\n      <td>0.000009</td>\n      <td>0.000395</td>\n      <td>0.000009</td>\n      <td>0.000002</td>\n      <td>0.000413</td>\n      <td>5.497591e-08</td>\n      <td>0.002506</td>\n      <td>0.000016</td>\n    </tr>\n    <tr>\n      <th>2017-09-20 4:00</th>\n      <td>4</td>\n      <td>0.002522</td>\n      <td>0.2285</td>\n      <td>0.005284</td>\n      <td>-2.094395</td>\n      <td>0.003180</td>\n      <td>0.798624</td>\n      <td>1.978097</td>\n      <td>0.05</td>\n      <td>5.002084</td>\n      <td>...</td>\n      <td>0.000017</td>\n      <td>0.000398</td>\n      <td>0.000009</td>\n      <td>0.000395</td>\n      <td>0.000009</td>\n      <td>0.000002</td>\n      <td>0.000413</td>\n      <td>5.497591e-08</td>\n      <td>0.002506</td>\n      <td>0.000016</td>\n    </tr>\n    <tr>\n      <th>...</th>\n      <td>...</td>\n      <td>...</td>\n      <td>...</td>\n      <td>...</td>\n      <td>...</td>\n      <td>...</td>\n      <td>...</td>\n      <td>...</td>\n      <td>...</td>\n      <td>...</td>\n      <td>...</td>\n      <td>...</td>\n      <td>...</td>\n      <td>...</td>\n      <td>...</td>\n      <td>...</td>\n      <td>...</td>\n      <td>...</td>\n      <td>...</td>\n      <td>...</td>\n      <td>...</td>\n    </tr>\n    <tr>\n      <th>2017-12-13 19:00</th>\n      <td>19</td>\n      <td>3.895113</td>\n      <td>0.2285</td>\n      <td>-0.405425</td>\n      <td>1.832596</td>\n      <td>-0.237361</td>\n      <td>0.733894</td>\n      <td>2.012309</td>\n      <td>0.05</td>\n      <td>5.002084</td>\n      <td>...</td>\n      <td>0.000762</td>\n      <td>0.206150</td>\n      <td>0.000692</td>\n      <td>0.027584</td>\n      <td>0.000147</td>\n      <td>0.178565</td>\n      <td>0.028424</td>\n      <td>-7.782663e-05</td>\n      <td>0.199917</td>\n      <td>3.695197</td>\n    </tr>\n    <tr>\n      <th>2017-12-13 20:00</th>\n      <td>20</td>\n      <td>3.895113</td>\n      <td>0.2285</td>\n      <td>-0.405425</td>\n      <td>2.094395</td>\n      <td>-0.237361</td>\n      <td>0.733894</td>\n      <td>2.219694</td>\n      <td>0.05</td>\n      <td>5.002084</td>\n      <td>...</td>\n      <td>0.000762</td>\n      <td>0.206150</td>\n      <td>0.000692</td>\n      <td>0.027584</td>\n      <td>0.000147</td>\n      <td>0.178565</td>\n      <td>0.028424</td>\n      <td>-7.782663e-05</td>\n      <td>0.199917</td>\n      <td>3.695197</td>\n    </tr>\n    <tr>\n      <th>2017-12-13 21:00</th>\n      <td>21</td>\n      <td>3.895113</td>\n      <td>0.2285</td>\n      <td>-0.405425</td>\n      <td>2.356194</td>\n      <td>-0.237361</td>\n      <td>0.733894</td>\n      <td>2.428440</td>\n      <td>0.05</td>\n      <td>5.002084</td>\n      <td>...</td>\n      <td>0.000762</td>\n      <td>0.206150</td>\n      <td>0.000692</td>\n      <td>0.027584</td>\n      <td>0.000147</td>\n      <td>0.178565</td>\n      <td>0.028424</td>\n      <td>-7.782663e-05</td>\n      <td>0.199917</td>\n      <td>3.695197</td>\n    </tr>\n    <tr>\n      <th>2017-12-13 22:00</th>\n      <td>22</td>\n      <td>3.895113</td>\n      <td>0.2285</td>\n      <td>-0.405425</td>\n      <td>2.617994</td>\n      <td>-0.237361</td>\n      <td>0.733894</td>\n      <td>2.631977</td>\n      <td>0.05</td>\n      <td>5.002084</td>\n      <td>...</td>\n      <td>0.000762</td>\n      <td>0.206150</td>\n      <td>0.000692</td>\n      <td>0.027584</td>\n      <td>0.000147</td>\n      <td>0.178565</td>\n      <td>0.028424</td>\n      <td>-7.782663e-05</td>\n      <td>0.199917</td>\n      <td>3.695197</td>\n    </tr>\n    <tr>\n      <th>2017-12-13 23:00</th>\n      <td>23</td>\n      <td>3.895113</td>\n      <td>0.2285</td>\n      <td>-0.405425</td>\n      <td>2.879793</td>\n      <td>-0.237361</td>\n      <td>0.733894</td>\n      <td>2.812230</td>\n      <td>0.05</td>\n      <td>5.002084</td>\n      <td>...</td>\n      <td>0.000762</td>\n      <td>0.206150</td>\n      <td>0.000692</td>\n      <td>0.027584</td>\n      <td>0.000147</td>\n      <td>0.178565</td>\n      <td>0.028424</td>\n      <td>-7.782663e-05</td>\n      <td>0.199917</td>\n      <td>3.695197</td>\n    </tr>\n  </tbody>\n</table>\n<p>2040 rows × 27 columns</p>\n</div>"
     },
     "execution_count": 11,
     "metadata": {},
     "output_type": "execute_result"
    }
   ],
   "source": [
    "fraction_param = pd.DataFrame(result).set_index('timestamp')\n",
    "fraction_param.to_csv('fraction_param.csv')\n",
    "fraction_param"
   ],
   "metadata": {
    "collapsed": false,
    "pycharm": {
     "name": "#%%\n"
    }
   }
  }
 ],
 "metadata": {
  "kernelspec": {
   "display_name": "Python 3",
   "language": "python",
   "name": "python3"
  },
  "language_info": {
   "codemirror_mode": {
    "name": "ipython",
    "version": 2
   },
   "file_extension": ".py",
   "mimetype": "text/x-python",
   "name": "python",
   "nbconvert_exporter": "python",
   "pygments_lexer": "ipython2",
   "version": "2.7.6"
  }
 },
 "nbformat": 4,
 "nbformat_minor": 0
}