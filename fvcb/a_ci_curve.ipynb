{
 "cells": [
  {
   "cell_type": "code",
   "execution_count": 32,
   "metadata": {
    "collapsed": true,
    "pycharm": {
     "name": "#%%\n"
    }
   },
   "outputs": [],
   "source": [
    "import matplotlib.pyplot as plt\n",
    "import numpy as np"
   ]
  },
  {
   "cell_type": "code",
   "execution_count": 33,
   "outputs": [],
   "source": [
    "##### Constants\n",
    "KELVIN   = 273.15       # Kelvin temperature\n",
    "R        = 8.314        # ideal gas constant\n",
    "SBC      = 5.6697e-8    # Stefan-Boltzmann constant   W m-2 K-4\n",
    "PSC      = 6.66e-4      # psychrometer constant\n",
    "Cp       = 29.3         # specific heat of air    J mol-1 C-1\n",
    "LAMBDA   = 44000.       # Latent heat of vaporization at 25 C J mol-1\n",
    "##### Parameters for light\n",
    "scatt   = 0.15          # leaf reflectance + transmittance\n",
    "f       = 0.15          # correction factor\n",
    "conv    = 4.57          # conversion from W m-2 to umol m-2 s-1\n",
    "epsilon = 0.97          # leaf thermal emissivity\n",
    "##### Other Common parameters\n",
    "O2    = 210.            # O2 partial pressure (mbar=20.5kPa)\n",
    "Kc25  = 404.9           # MM constant of Rubisco for CO2 at 25 from Bernacchi et al. (2001)\n",
    "Ko25  = 278.4           # MM constant of Rubisco for O2 at 25 from Bernacchi et al. (2001)\n",
    "Eac   = 79430.  # Activation energy for Kc from Bernacchi et al. (2001)\n",
    "Eao   = 36380.  # Activation energy for Ko from Bernacchi et al. (2001)\n",
    "g0    = 0.036    # residual stomatal conductance,  mol m-2 s-1\n",
    "g1    = 10.0    # empirical coefficient of BWB model  이거\n",
    "P     = 1.013   # conversion factor from ppmv to ubar (= 1013000 / 1000000) = 101.3 kPa = 1013 mbar\n",
    "\n",
    "\n",
    "##########################################################\n",
    "##### Parameters for Chinese cabbage from Experiment 2015\n",
    "##########################################################\n",
    "theta   = 0.7       # hyperbola parameter 이거\n",
    "width   = 0.1        # leaf width (m) 이거\n",
    "Vcm25   = 152.5     # Vcmax of CC at 25 C 이거\n",
    "Jm25    = 238.6      # Jmax  of CC at 25 C 이거\n",
    "TPU25   = 17.1       # 이거F\n",
    "Rd25    = 1.7        # 이거\n",
    "gamma25 = 42.8        #\n",
    "Havcm   = 65330     # Ha\n",
    "Hajm    = 57500     # Ha\n",
    "Hdjm    = 439800.    # Hd\n",
    "Svjm    = 1400      # Sv\n",
    "Ear     = 46390.     # Ha\n",
    "Eagamma = 37830.     # Ha\n",
    "EaTPU   = 47100.     # Ha for TPU   from Kim and Leith(2003)"
   ],
   "metadata": {
    "collapsed": false,
    "pycharm": {
     "name": "#%%\n"
    }
   }
  },
  {
   "cell_type": "code",
   "execution_count": 34,
   "outputs": [],
   "source": [
    "Ta = 25     # 온도 고정\n",
    "Ic = 2000    # 광량 고정\n",
    "\n",
    "Cinew = []   # 잎 내 Co2 농도\n",
    "\n",
    "for i in range(1,1500):\n",
    "    Cinew.append(i)"
   ],
   "metadata": {
    "collapsed": false,
    "pycharm": {
     "name": "#%%\n"
    }
   }
  },
  {
   "cell_type": "code",
   "execution_count": 35,
   "outputs": [],
   "source": [
    "def tempParam1(k25, Ha, Hd, Sv, temp):\n",
    "    a = (1+np.exp((Sv*(25+KELVIN)-Hd)/(R*(25+KELVIN))))/(1+np.exp((Sv*(temp+KELVIN)- Hd)/(R*(temp+KELVIN))))\n",
    "    b = np.exp((Ha / (R * (25.+KELVIN))) * (1 - (25.+KELVIN) / (temp + KELVIN)))\n",
    "    return (k25 * b * a)\n",
    "\n",
    "def tempParam2(k25, Ha, temp):\n",
    "    return  k25 * np.exp((Ha / (R * (25.+KELVIN)) * (1 - (25.+KELVIN) / (KELVIN + temp)))) # --> arrhenius function\n",
    "\n",
    "\n",
    "Vcmax = tempParam2(k25=Vcm25, Ha=Havcm, temp=Ta)\n",
    "Jmax = tempParam1(k25=Jm25, Ha=Hajm, Hd=Hdjm, Sv=Svjm, temp=Ta)\n",
    "GammaStar = tempParam2(k25=gamma25, Ha=Eagamma, temp=Ta)\n",
    "Kc = tempParam2(k25=Kc25, Ha=Eac, temp=Ta)\n",
    "Ko = tempParam2(k25=Ko25, Ha=Eao, temp=Ta)\n",
    "TPU = tempParam2(k25=TPU25, Ha=EaTPU, temp=Ta)\n",
    "Rd = tempParam2(k25=Rd25, Ha=Ear, temp=Ta)\n"
   ],
   "metadata": {
    "collapsed": false,
    "pycharm": {
     "name": "#%%\n"
    }
   }
  },
  {
   "cell_type": "code",
   "execution_count": 36,
   "outputs": [],
   "source": [
    "J2 = Ic * (1 - scatt) * (1 - f) / 2\n",
    "J = ((J2 + Jmax) - np.sqrt((J2 + Jmax) ** 2 - 4 * J2 * Jmax * theta)) / (2 * theta)"
   ],
   "metadata": {
    "collapsed": false,
    "pycharm": {
     "name": "#%%\n"
    }
   }
  },
  {
   "cell_type": "code",
   "execution_count": 37,
   "outputs": [],
   "source": [
    "## 광합성 모델식\n",
    "Wc = []\n",
    "Wj = []\n",
    "Ws = []\n",
    "Wp = []\n",
    "W=[]\n",
    "Rd = []\n",
    "An = []\n",
    "W_net = []\n",
    "\n",
    "def minh(A, B, theta=0.7):  # hyperbolic minimum\n",
    "    x = (A + B) * (A + B) - 4 * A * B * theta\n",
    "    if (x < 0):\n",
    "        res = min(A, B)\n",
    "    else:\n",
    "        res = ((A + B) - np.sqrt(x)) / (2 * theta)\n",
    "    return res\n",
    "\n",
    "for i in range(len(Cinew)):\n",
    "    Wc.append(Vcmax * (Cinew[i] - GammaStar) / (Cinew[i] + Kc * (1 + O2 / Ko)))  # Rubisco-limited\n",
    "    Wj.append(J * (Cinew[i] - GammaStar) / (4 * (Cinew[i] + 2 * GammaStar)))\n",
    "    Ws.append(3 * TPU)\n",
    "    Wp.append(minh(Wc[i], Wj[i], theta))\n",
    "    W_net.append(min(Wc[i],Wj[i],Ws[i]))\n",
    "    W.append(min(Wp[i], Ws[i]))  # min(Wp, Ws)\n",
    "    Rd.append(0.015 * Vcmax)  # Dark respiration from Collatz(1991)\n",
    "    An.append(W[i] - Rd)"
   ],
   "metadata": {
    "collapsed": false,
    "pycharm": {
     "name": "#%%\n"
    }
   }
  },
  {
   "cell_type": "code",
   "execution_count": 38,
   "outputs": [
    {
     "data": {
      "text/plain": "<Figure size 432x288 with 1 Axes>",
      "image/png": "[encoded data removed]"
     },
     "metadata": {
      "needs_background": "light"
     },
     "output_type": "display_data"
    }
   ],
   "source": [
    "plt.plot(Wc, label = 'Ac')\n",
    "plt.plot(Wj, label = 'Aj')\n",
    "plt.plot(Ws, label = 'Ap')\n",
    "plt.plot(W_net, label = 'A_net')\n",
    "plt.title('A-Ci Curve')\n",
    "plt.xlabel('Co2 Concentration')\n",
    "plt.ylabel('Photosynthesis')\n",
    "plt.legend()\n",
    "# plt.show(https://user-images.githubusercontent.com/93086581/214617092-be421871-d1ce-4f98-8d6b-b90161f280bf.png)\n",
    "plt.savefig(f'temp{Ta}.png')"
   ],
   "metadata": {
    "collapsed": false,
    "pycharm": {
     "name": "#%%\n"
    }
   }
  }
 ],
 "metadata": {
  "kernelspec": {
   "display_name": "Python 3",
   "language": "python",
   "name": "python3"
  },
  "language_info": {
   "codemirror_mode": {
    "name": "ipython",
    "version": 2
   },
   "file_extension": ".py",
   "mimetype": "text/x-python",
   "name": "python",
   "nbconvert_exporter": "python",
   "pygments_lexer": "ipython2",
   "version": "2.7.6"
  }
 },
 "nbformat": 4,
 "nbformat_minor": 0
}